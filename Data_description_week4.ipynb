{
    "cells": [
        {
            "cell_type": "markdown",
            "metadata": {
                "collapsed": true
            },
            "source": "# Data Description Week 4"
        },
        {
            "cell_type": "markdown",
            "metadata": {},
            "source": "## Data Description:\n\n1. Data Link: https://en.wikipedia.org/wiki/List_of_postal_codes_of_Canada:_M \nThe above Wikipedia link will be used to scrap the Neighbourhoods in Toronto which is same as of week 3. \n\n2. http://cocl.us/Geospatial_data\nThe above link will be used to get the latitude and longitude of the Neighbourhoods in Toronto, Canada. \n\n## Foursquare API Data:\nFoursquare will be used to get the name of the venues, locations of the venues, categories of the venue, and Latitude & Longitude of the venues (Restaurants in this case). \n"
        }
    ],
    "metadata": {
        "kernelspec": {
            "display_name": "Python 3.6",
            "language": "python",
            "name": "python3"
        },
        "language_info": {
            "codemirror_mode": {
                "name": "ipython",
                "version": 3
            },
            "file_extension": ".py",
            "mimetype": "text/x-python",
            "name": "python",
            "nbconvert_exporter": "python",
            "pygments_lexer": "ipython3",
            "version": "3.6.9"
        }
    },
    "nbformat": 4,
    "nbformat_minor": 1
}