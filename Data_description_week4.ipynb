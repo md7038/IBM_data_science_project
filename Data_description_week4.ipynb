{
    "cells": [
        {
            "cell_type": "markdown",
            "metadata": {
                "collapsed": true
            },
            "source": "# Data Description Week 4"
        },
        {
            "cell_type": "markdown",
            "metadata": {},
            "source": "## Data Description:\n\n1.\tList of postal codes and corresponding neighborhoods were scrapped from a Wikipedia link https://en.wikipedia.org/wiki/List_of_postal_codes_of_Canada:_M.\n    The wikipedia link consists postal codes Starting with M (M is for city of Toronto), Borough, and Neighborhoods associated with the Postal Codes. For example, M1B postal code is associated with Scarborough, a borough while the Neighborhoods in the postal codes are Malvern and Rouge. \n    In this project, All the neighborhoods in Scarborough will be scrapped.\n\n\n2.\tThe latitude and longitude of the neighborhoods corresponding to the postal codes in Scarborough, Toronto, Canada were acquired from http://cocl.us/Geospatial_data \n\n\n3.\tFoursquare API were further used to get the following features:\n\n    a. name of the venues (Mexican Restaurants) \n    \n    b. locations of the venues\n    \n    c. categories of the venues\n    \n    d. Latitude of the Venues\n    \n    e. Longitude of the venues\n"
        },
        {
            "cell_type": "code",
            "execution_count": null,
            "metadata": {},
            "outputs": [],
            "source": ""
        }
    ],
    "metadata": {
        "kernelspec": {
            "display_name": "Python 3.6",
            "language": "python",
            "name": "python3"
        },
        "language_info": {
            "codemirror_mode": {
                "name": "ipython",
                "version": 3
            },
            "file_extension": ".py",
            "mimetype": "text/x-python",
            "name": "python",
            "nbconvert_exporter": "python",
            "pygments_lexer": "ipython3",
            "version": "3.6.9"
        }
    },
    "nbformat": 4,
    "nbformat_minor": 1
}