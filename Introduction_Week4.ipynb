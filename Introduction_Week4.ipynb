{
    "cells": [
        {
            "cell_type": "markdown",
            "metadata": {
                "collapsed": true
            },
            "source": "# The Battle of Neighborhoods | Introduction/Business Proposal"
        },
        {
            "cell_type": "markdown",
            "metadata": {},
            "source": "## Introduction:\nWe have already studied the migration to Canada from different countires. Diversity of the migrated population opens new opportunity for the existing as well as new business. For example, Indian disapora will be looking for Indian restaurant or Chinese disapora will look for a Chinese restaurant. In  this study, the goal is to recommend a place in Toronto for opening a Mexican Restaurant. The study will help making a smart and informed decision to select a neighbourhood in Toronto to open a Mexican restaurant. \n\n## Problem Statement\nThe major goal of this project is to suggest a better neighborhood in Scarborough, Toronto to open a Mexican resturant. Mexican food is popular not just among Mexicans but Canadians, Indians, and the people from other contries in South and North America.  \n\n\n## The Location\nScarborough is a popular destination for new immigrants in Canada and a multicultiural hub in the Greater Toronto Area.\n\n## Foursquare API\nIn this project I will use Four-square API as its prime data gathering source as it has a database of millions of places, especially their places API which provides the ability to perform location search, location sharing and details about a business.\n\n\n## Work Flow\nUsing credentials of Foursquare API features of near-by places of the neighborhoods would be mined. Due to http request limitations the number of places per neighborhood parameter would reasonably be set to 100 and the radius parameter would be set to 500.\n\n\n## Clustering/segmenting\nTo evaluate the existing Mexican restaurant in Scarboough, Toronto, I will explore the neighbourhoods, segment them and group them into clusters to find the scarcity of Mexican restaurants. \n\n## Key Libraries\nPandas, Numpy, Folium, JSON, XML, Geocoder, Scikit Learn"
        },
        {
            "cell_type": "code",
            "execution_count": null,
            "metadata": {},
            "outputs": [],
            "source": ""
        }
    ],
    "metadata": {
        "kernelspec": {
            "display_name": "Python 3.6",
            "language": "python",
            "name": "python3"
        },
        "language_info": {
            "codemirror_mode": {
                "name": "ipython",
                "version": 3
            },
            "file_extension": ".py",
            "mimetype": "text/x-python",
            "name": "python",
            "nbconvert_exporter": "python",
            "pygments_lexer": "ipython3",
            "version": "3.6.9"
        }
    },
    "nbformat": 4,
    "nbformat_minor": 1
}